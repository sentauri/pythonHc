{
  "nbformat": 4,
  "nbformat_minor": 0,
  "metadata": {
    "colab": {
      "provenance": [],
      "authorship_tag": "ABX9TyMx5lxiM1An9LdrS/1iXXAV",
      "include_colab_link": true
    },
    "kernelspec": {
      "name": "python3",
      "display_name": "Python 3"
    },
    "language_info": {
      "name": "python"
    }
  },
  "cells": [
    {
      "cell_type": "markdown",
      "metadata": {
        "id": "view-in-github",
        "colab_type": "text"
      },
      "source": [
        "<a href=\"https://colab.research.google.com/github/sentauri/pythonHc/blob/master/day4.ipynb\" target=\"_parent\"><img src=\"https://colab.research.google.com/assets/colab-badge.svg\" alt=\"Open In Colab\"/></a>"
      ]
    },
    {
      "cell_type": "code",
      "execution_count": 4,
      "metadata": {
        "colab": {
          "base_uri": "https://localhost:8080/"
        },
        "id": "2xo1m6es5qp2",
        "outputId": "83511a07-bc16-4907-ce50-d3660cc09f5a"
      },
      "outputs": [
        {
          "output_type": "execute_result",
          "data": {
            "text/plain": [
              "(0.979438362684436,\n",
              " '              precision    recall  f1-score   support\\n\\n           0       0.98      0.99      0.98      6564\\n           1       0.98      0.96      0.97      3941\\n\\n    accuracy                           0.98     10505\\n   macro avg       0.98      0.98      0.98     10505\\nweighted avg       0.98      0.98      0.98     10505\\n')"
            ]
          },
          "metadata": {},
          "execution_count": 4
        }
      ],
      "source": [
        "import pandas as pd\n",
        "from sklearn.model_selection import train_test_split\n",
        "from sklearn.preprocessing import LabelEncoder, StandardScaler\n",
        "from sklearn.ensemble import RandomForestClassifier\n",
        "from sklearn.metrics import classification_report, accuracy_score\n",
        "\n",
        "#@title Load Raw Data\n",
        "# Use the raw URL to access the CSV file directly\n",
        "raw_data = pd.read_csv(\"https://raw.githubusercontent.com/sentauri/pythonHc/master/online_shopping.csv\")\n",
        "data = raw_data.copy()\n",
        "data.head()\n",
        "\n",
        "# Dropping unnecessary columns\n",
        "data_cleaned = data.drop(columns=['Unnamed: 0', 'CustomerID', 'Transaction_ID', 'Product_SKU', 'Transaction_Date', 'Product_Description', 'Date', 'Coupon_Code'])\n",
        "\n",
        "# Handle missing values if any\n",
        "data_cleaned = data_cleaned.dropna()\n",
        "\n",
        "# Encode categorical variables\n",
        "label_encoder = LabelEncoder()\n",
        "data_cleaned['Location'] = label_encoder.fit_transform(data_cleaned['Location'])\n",
        "data_cleaned['Product_Category'] = label_encoder.fit_transform(data_cleaned['Product_Category'])\n",
        "data_cleaned['Coupon_Status'] = label_encoder.fit_transform(data_cleaned['Coupon_Status'])\n",
        "data_cleaned['Gender'] = label_encoder.fit_transform(data_cleaned['Gender'])  # Gender (M=1, F=0)\n",
        "\n",
        "# Separate features (X) and target (y)\n",
        "X = data_cleaned.drop(columns=['Gender'])\n",
        "y = data_cleaned['Gender']\n",
        "\n",
        "# Standardize the features\n",
        "scaler = StandardScaler()\n",
        "X_scaled = scaler.fit_transform(X)\n",
        "\n",
        "# Split the data into training and test sets (80% train, 20% test)\n",
        "X_train, X_test, y_train, y_test = train_test_split(X_scaled, y, test_size=0.2, random_state=42)\n",
        "\n",
        "# Train a Random Forest classifier\n",
        "clf = RandomForestClassifier(random_state=42)\n",
        "clf.fit(X_train, y_train)\n",
        "\n",
        "# Make predictions\n",
        "y_pred = clf.predict(X_test)\n",
        "\n",
        "# Evaluate the model\n",
        "accuracy = accuracy_score(y_test, y_pred)\n",
        "report = classification_report(y_test, y_pred)\n",
        "\n",
        "accuracy, report\n"
      ]
    }
  ]
}