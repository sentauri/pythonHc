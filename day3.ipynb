{
  "nbformat": 4,
  "nbformat_minor": 0,
  "metadata": {
    "colab": {
      "provenance": [],
      "authorship_tag": "ABX9TyOel00/+eaHE4m/x04uB8iv",
      "include_colab_link": true
    },
    "kernelspec": {
      "name": "python3",
      "display_name": "Python 3"
    },
    "language_info": {
      "name": "python"
    }
  },
  "cells": [
    {
      "cell_type": "markdown",
      "metadata": {
        "id": "view-in-github",
        "colab_type": "text"
      },
      "source": [
        "<a href=\"https://colab.research.google.com/github/sentauri/pythonHc/blob/master/day3.ipynb\" target=\"_parent\"><img src=\"https://colab.research.google.com/assets/colab-badge.svg\" alt=\"Open In Colab\"/></a>"
      ]
    },
    {
      "cell_type": "code",
      "source": [
        "import pandas as pd\n",
        "\n",
        "#@title Load Raw Data\n",
        "# Use the raw URL to access the CSV file directly\n",
        "raw_data = pd.read_csv(\"https://raw.githubusercontent.com/sentauri/pythonHc/master/online_shopping.csv\")"
      ],
      "metadata": {
        "id": "7h2Wp4H0KaRC"
      },
      "execution_count": 5,
      "outputs": []
    }
  ]
}